{
 "cells": [
  {
   "cell_type": "markdown",
   "metadata": {},
   "source": [
    "# Wilkinson formulas and `Formulaic`\n",
    "\n",
    "Wilkinson formulas are a symbolic notation for expressing statistical models. They were in introduced in Wilkinson and Rogers 1973, Symbolic Description of Factorial Models for Analysis of Variance https://www.jstor.org/stable/2346786 and extended over time for mixed and nested models.\n",
    "The notation is not standardized and there are differences in the individual implementations in R ([`formula`](https://cran.r-project.org/web/packages/Formula/)) and Matlab ([documentation](https://www.mathworks.com/help/stats/wilkinson-notation.html)) and Python ([`patsy`](https://github.com/pydata/patsy)) among others."
   ]
  },
  {
   "cell_type": "markdown",
   "metadata": {},
   "source": [
    "My observation is that Wilkinson notation is much less common in the Python stats community than in R. \n",
    "On reason may be that the development of `patsy` stopped in 2018 and the package started to collect open issues and deprecation warnings since then.\n",
    "I remember looking into using it for my work, but decided against it for the lack of support.\n",
    "Luckily there is now a designated successor called [`Formulaic`](https://github.com/matthewwardrop/formulaic).\n",
    "While `Formulaic` is still in beta, it has almost reached feature parity with `patsy` and can be used as drop-in replacement in some use cases.\n",
    "For example `statsmodels` is planning to [adopt Formulaic](https://github.com/statsmodels/statsmodels/issues/6858)."
   ]
  },
  {
   "cell_type": "code",
   "execution_count": 1,
   "metadata": {},
   "outputs": [
    {
     "name": "stdout",
     "output_type": "stream",
     "text": [
      "0.2.4\n"
     ]
    }
   ],
   "source": [
    "import numpy as np\n",
    "import pandas as pd\n",
    "import formulaic\n",
    "from formulaic import Formula\n",
    "\n",
    "print(formulaic.__version__)"
   ]
  },
  {
   "cell_type": "markdown",
   "metadata": {},
   "source": [
    "## The notation\n",
    "\n",
    "Wilkinson notation is best shown by example.\n",
    "With `y ~ x1 + x2 + x3` we specify that `y` is modeled by a linear combination of the independent variables `x1`, `x2`, `x3`.\n",
    "Note, that an intercept term is implicitly added."
   ]
  },
  {
   "cell_type": "code",
   "execution_count": 2,
   "metadata": {},
   "outputs": [
    {
     "data": {
      "text/plain": [
       "y ~ 1 + x1 + x2 + x3"
      ]
     },
     "execution_count": 2,
     "metadata": {},
     "output_type": "execute_result"
    }
   ],
   "source": [
    "Formula(\"y ~ x1 + x2 + x3\")"
   ]
  },
  {
   "cell_type": "markdown",
   "metadata": {},
   "source": [
    "We can disable the intercept (e.g. if `y` is centered) by adding `-1`."
   ]
  },
  {
   "cell_type": "code",
   "execution_count": 3,
   "metadata": {},
   "outputs": [
    {
     "data": {
      "text/plain": [
       "y ~ x1 + x2 + x3"
      ]
     },
     "execution_count": 3,
     "metadata": {},
     "output_type": "execute_result"
    }
   ],
   "source": [
    "Formula(\"y ~ x1 + x2 + x3 - 1\")"
   ]
  },
  {
   "cell_type": "markdown",
   "metadata": {},
   "source": [
    "Interactions between variables are denoted with the colon operator, e.g. `x1:x2` means that a $x_1 \\cdot x_2$ term is added to the model.\n",
    "Adding all pairwise interactions can be done by writing it out `x1 + x2 + x3 + x1:x2 + x1:x3 + x2:x3` or in a more convenient way using `(x1 + x2 + x3)**2`, where the `**2` is meant as 2-way interactions, not as a square."
   ]
  },
  {
   "cell_type": "code",
   "execution_count": 4,
   "metadata": {},
   "outputs": [
    {
     "data": {
      "text/plain": [
       "y ~ 1 + x1 + x2 + x3 + x1:x2 + x1:x3 + x2:x3"
      ]
     },
     "execution_count": 4,
     "metadata": {},
     "output_type": "execute_result"
    }
   ],
   "source": [
    "Formula(\"y ~(x1 + x2 + x3)**2\")"
   ]
  },
  {
   "cell_type": "markdown",
   "metadata": {},
   "source": [
    "Similarly, three-way interactions can be added with `(x1 + x2 + x3)**3` and individual terms disabled with, e.g.  `- x1:x2` "
   ]
  },
  {
   "cell_type": "code",
   "execution_count": 5,
   "metadata": {},
   "outputs": [
    {
     "data": {
      "text/plain": [
       "y ~ 1 + x1 + x2 + x3 + x1:x3 + x2:x3 + x1:x2:x3"
      ]
     },
     "execution_count": 5,
     "metadata": {},
     "output_type": "execute_result"
    }
   ],
   "source": [
    "Formula(\"y ~(x1 + x2 + x3)**3 - x1:x2\")"
   ]
  },
  {
   "cell_type": "markdown",
   "metadata": {},
   "source": [
    "Powers and other transformations can be added inside an `I(...)`. \n",
    "In Formulaic this can also be done with curly braces, e.g. `{x1**2}`."
   ]
  },
  {
   "cell_type": "code",
   "execution_count": 6,
   "metadata": {},
   "outputs": [
    {
     "data": {
      "text/plain": [
       "y ~ 1 + x1 + x1**2 + x2 + x2**2 + x3 + x3**2 + x1:x2 + x1:x3 + x2:x3"
      ]
     },
     "execution_count": 6,
     "metadata": {},
     "output_type": "execute_result"
    }
   ],
   "source": [
    "Formula(\"y ~ (x1 + x2 + x3)**2 + {x1**2} + {x2**2} + {x3**2}\")"
   ]
  },
  {
   "cell_type": "markdown",
   "metadata": {},
   "source": [
    "Nested effects can be specified with `a/b` which adds a term for `a` and all interactions of `a` with `b`.\n",
    "For example `x1 / (x2 + x3)` crosses `x1` with each of `x2`, `x3`:"
   ]
  },
  {
   "cell_type": "code",
   "execution_count": 7,
   "metadata": {},
   "outputs": [
    {
     "data": {
      "text/plain": [
       "y ~ 1 + x1 + x1:x2 + x1:x3"
      ]
     },
     "execution_count": 7,
     "metadata": {},
     "output_type": "execute_result"
    }
   ],
   "source": [
    "Formula(\"y ~ x1 / (x2 + x3)\")"
   ]
  },
  {
   "cell_type": "markdown",
   "metadata": {},
   "source": [
    "In case variables contain special characters, they need to be quoted in backticks."
   ]
  },
  {
   "cell_type": "code",
   "execution_count": 8,
   "metadata": {},
   "outputs": [
    {
     "data": {
      "text/plain": [
       "y ~ 1 + x 1 + x# + x§"
      ]
     },
     "execution_count": 8,
     "metadata": {},
     "output_type": "execute_result"
    }
   ],
   "source": [
    "Formula(\"y ~ `x 1` + `x§` + `x#`\")"
   ]
  },
  {
   "cell_type": "markdown",
   "metadata": {},
   "source": [
    "The full grammar implemented in Formulaic is listed [here](https://matthewwardrop.github.io/formulaic/basic/grammar).\n",
    "Mixed effects modelling using the `|` and `||` is not yet implemented."
   ]
  },
  {
   "cell_type": "markdown",
   "metadata": {},
   "source": [
    "## What's it for?\n",
    "By passing a dataframe to the formula we get the design matrix `X`. \n",
    "Here it gets really interesting as categorical variables are automatically dummy-encoded and the formula expanded correspondingly.\n",
    "In the dummy-encoding the first level (\"A\" in the example below) is always dropped."
   ]
  },
  {
   "cell_type": "code",
   "execution_count": 9,
   "metadata": {},
   "outputs": [
    {
     "data": {
      "text/html": [
       "<div>\n",
       "<style scoped>\n",
       "    .dataframe tbody tr th:only-of-type {\n",
       "        vertical-align: middle;\n",
       "    }\n",
       "\n",
       "    .dataframe tbody tr th {\n",
       "        vertical-align: top;\n",
       "    }\n",
       "\n",
       "    .dataframe thead th {\n",
       "        text-align: right;\n",
       "    }\n",
       "</style>\n",
       "<table border=\"1\" class=\"dataframe\">\n",
       "  <thead>\n",
       "    <tr style=\"text-align: right;\">\n",
       "      <th></th>\n",
       "      <th>Intercept</th>\n",
       "      <th>x1</th>\n",
       "      <th>x2</th>\n",
       "      <th>x3[T.B]</th>\n",
       "      <th>x3[T.C]</th>\n",
       "      <th>x1:x2</th>\n",
       "      <th>x3[T.B]:x1</th>\n",
       "      <th>x3[T.C]:x1</th>\n",
       "      <th>x3[T.B]:x2</th>\n",
       "      <th>x3[T.C]:x2</th>\n",
       "    </tr>\n",
       "  </thead>\n",
       "  <tbody>\n",
       "    <tr>\n",
       "      <th>0</th>\n",
       "      <td>1.0</td>\n",
       "      <td>6</td>\n",
       "      <td>0.3</td>\n",
       "      <td>0</td>\n",
       "      <td>0</td>\n",
       "      <td>1.8</td>\n",
       "      <td>0</td>\n",
       "      <td>0</td>\n",
       "      <td>0.0</td>\n",
       "      <td>0.0</td>\n",
       "    </tr>\n",
       "    <tr>\n",
       "      <th>1</th>\n",
       "      <td>1.0</td>\n",
       "      <td>2</td>\n",
       "      <td>0.1</td>\n",
       "      <td>1</td>\n",
       "      <td>0</td>\n",
       "      <td>0.2</td>\n",
       "      <td>2</td>\n",
       "      <td>0</td>\n",
       "      <td>0.1</td>\n",
       "      <td>0.0</td>\n",
       "    </tr>\n",
       "    <tr>\n",
       "      <th>2</th>\n",
       "      <td>1.0</td>\n",
       "      <td>5</td>\n",
       "      <td>0.2</td>\n",
       "      <td>0</td>\n",
       "      <td>1</td>\n",
       "      <td>1.0</td>\n",
       "      <td>0</td>\n",
       "      <td>5</td>\n",
       "      <td>0.0</td>\n",
       "      <td>0.2</td>\n",
       "    </tr>\n",
       "  </tbody>\n",
       "</table>\n",
       "</div>"
      ],
      "text/plain": [
       "   Intercept  x1   x2  x3[T.B]  x3[T.C]  x1:x2  x3[T.B]:x1  x3[T.C]:x1  \\\n",
       "0        1.0   6  0.3        0        0    1.8           0           0   \n",
       "1        1.0   2  0.1        1        0    0.2           2           0   \n",
       "2        1.0   5  0.2        0        1    1.0           0           5   \n",
       "\n",
       "   x3[T.B]:x2  x3[T.C]:x2  \n",
       "0         0.0         0.0  \n",
       "1         0.1         0.0  \n",
       "2         0.0         0.2  "
      ]
     },
     "execution_count": 9,
     "metadata": {},
     "output_type": "execute_result"
    }
   ],
   "source": [
    "df = pd.DataFrame({\n",
    "    \"y\": [0, 1, 2],\n",
    "    \"x1\": [6, 2, 5],\n",
    "    \"x2\": [0.3, 0.1, 0.2],\n",
    "    \"x3\": [\"A\", \"B\", \"C\"]\n",
    "})\n",
    "y, X = Formula(\"y ~ (x1 + x2 + x3)**2\").get_model_matrix(df)\n",
    "X"
   ]
  },
  {
   "cell_type": "markdown",
   "metadata": {},
   "source": [
    "`X` and `y` are of type `ModelMatrix` but can be converted back to `pd.DataFrames`."
   ]
  },
  {
   "cell_type": "code",
   "execution_count": 10,
   "metadata": {},
   "outputs": [
    {
     "data": {
      "text/plain": [
       "formulaic.model_matrix.ModelMatrix"
      ]
     },
     "execution_count": 10,
     "metadata": {},
     "output_type": "execute_result"
    }
   ],
   "source": [
    "type(X)"
   ]
  },
  {
   "cell_type": "markdown",
   "metadata": {},
   "source": [
    "We can retreive the `model_spec` to expand other dataframes to the same design matrix.\n",
    "This is useful when the new dataframe we pass does not contain all categorical levels."
   ]
  },
  {
   "cell_type": "code",
   "execution_count": 11,
   "metadata": {},
   "outputs": [
    {
     "data": {
      "text/html": [
       "<div>\n",
       "<style scoped>\n",
       "    .dataframe tbody tr th:only-of-type {\n",
       "        vertical-align: middle;\n",
       "    }\n",
       "\n",
       "    .dataframe tbody tr th {\n",
       "        vertical-align: top;\n",
       "    }\n",
       "\n",
       "    .dataframe thead th {\n",
       "        text-align: right;\n",
       "    }\n",
       "</style>\n",
       "<table border=\"1\" class=\"dataframe\">\n",
       "  <thead>\n",
       "    <tr style=\"text-align: right;\">\n",
       "      <th></th>\n",
       "      <th>Intercept</th>\n",
       "      <th>x1</th>\n",
       "      <th>x2</th>\n",
       "      <th>x3[T.B]</th>\n",
       "      <th>x3[T.C]</th>\n",
       "      <th>x1:x2</th>\n",
       "      <th>x3[T.B]:x1</th>\n",
       "      <th>x3[T.C]:x1</th>\n",
       "      <th>x3[T.B]:x2</th>\n",
       "      <th>x3[T.C]:x2</th>\n",
       "    </tr>\n",
       "  </thead>\n",
       "  <tbody>\n",
       "    <tr>\n",
       "      <th>0</th>\n",
       "      <td>1.0</td>\n",
       "      <td>4</td>\n",
       "      <td>0.4</td>\n",
       "      <td>1</td>\n",
       "      <td>0.0</td>\n",
       "      <td>1.6</td>\n",
       "      <td>4</td>\n",
       "      <td>0.0</td>\n",
       "      <td>0.4</td>\n",
       "      <td>0.0</td>\n",
       "    </tr>\n",
       "    <tr>\n",
       "      <th>1</th>\n",
       "      <td>1.0</td>\n",
       "      <td>3</td>\n",
       "      <td>0.3</td>\n",
       "      <td>1</td>\n",
       "      <td>0.0</td>\n",
       "      <td>0.9</td>\n",
       "      <td>3</td>\n",
       "      <td>0.0</td>\n",
       "      <td>0.3</td>\n",
       "      <td>0.0</td>\n",
       "    </tr>\n",
       "    <tr>\n",
       "      <th>2</th>\n",
       "      <td>1.0</td>\n",
       "      <td>5</td>\n",
       "      <td>0.1</td>\n",
       "      <td>0</td>\n",
       "      <td>0.0</td>\n",
       "      <td>0.5</td>\n",
       "      <td>0</td>\n",
       "      <td>0.0</td>\n",
       "      <td>0.0</td>\n",
       "      <td>0.0</td>\n",
       "    </tr>\n",
       "  </tbody>\n",
       "</table>\n",
       "</div>"
      ],
      "text/plain": [
       "   Intercept  x1   x2  x3[T.B]  x3[T.C]  x1:x2  x3[T.B]:x1  x3[T.C]:x1  \\\n",
       "0        1.0   4  0.4        1      0.0    1.6           4         0.0   \n",
       "1        1.0   3  0.3        1      0.0    0.9           3         0.0   \n",
       "2        1.0   5  0.1        0      0.0    0.5           0         0.0   \n",
       "\n",
       "   x3[T.B]:x2  x3[T.C]:x2  \n",
       "0         0.4         0.0  \n",
       "1         0.3         0.0  \n",
       "2         0.0         0.0  "
      ]
     },
     "execution_count": 11,
     "metadata": {},
     "output_type": "execute_result"
    }
   ],
   "source": [
    "df2 = pd.DataFrame({\n",
    "    \"x1\": [4, 3, 5],\n",
    "    \"x2\": [0.4, 0.3, 0.1],\n",
    "    \"x3\": [\"B\", \"B\", \"A\"]\n",
    "})\n",
    "\n",
    "spec = X.model_spec\n",
    "spec.get_model_matrix(df2)"
   ]
  },
  {
   "cell_type": "markdown",
   "metadata": {},
   "source": [
    "## An example\n",
    "\n",
    "To get a feeling for formulaic in practice, we'll model the BaumgartnerAniline dataset from [mopti](https://github.com/basf/mopti)."
   ]
  },
  {
   "cell_type": "code",
   "execution_count": 12,
   "metadata": {},
   "outputs": [
    {
     "data": {
      "text/plain": [
       "Problem(\n",
       "name=Baumgartner 2019 - Aniline Cross-Coupling,\n",
       "inputs=Parameters(\n",
       "[Categorical(name='catalyst', domain=['tBuXPhos', 'tBuBrettPhos', 'AlPhos']),\n",
       " Categorical(name='base', domain=['TEA', 'TMG', 'BTMG', 'DBU']),\n",
       " Continuous(name='base_equivalents', domain=[1.0, 2.5]),\n",
       " Continuous(name='temperature', domain=[30, 100]),\n",
       " Continuous(name='residence_time', domain=[60, 1800])]\n",
       "),\n",
       "outputs=Parameters(\n",
       "[Continuous(name='yield', domain=[0, 1])]\n",
       "),\n",
       "objectives=Objectives(\n",
       "[Maximize('yield', target=0)]\n",
       "),\n",
       "data=\n",
       "   catalyst  base  base_equivalents  temperature  residence_time     yield\n",
       "0  tBuXPhos   DBU          2.183015         30.0      328.717802  0.042833\n",
       "1  tBuXPhos  BTMG          2.190882        100.0       73.331194  0.959690\n",
       "2  tBuXPhos   TMG          1.093138         47.5       75.121297  0.031579\n",
       "3  tBuXPhos   TMG          2.186276        100.0      673.259508  0.766768\n",
       "4  tBuXPhos   TEA          1.108767         30.0      107.541151  0.072299\n",
       ")"
      ]
     },
     "execution_count": 12,
     "metadata": {},
     "output_type": "execute_result"
    }
   ],
   "source": [
    "import opti\n",
    "\n",
    "problem = opti.problems.BaumgartnerAniline()\n",
    "df = problem.data\n",
    "problem"
   ]
  },
  {
   "cell_type": "markdown",
   "metadata": {},
   "source": [
    "Now we're ready to try out a number of models.\n",
    "We'll use a linear regressor from scikit-learn and evaluate using leave-one-out cross-validation $R^2$ score ($Q^2$).\n",
    "Since the regressor includes an intercept term by default, we'll remove the one in the design matrix.\n",
    "A linear model gives $Q^2 = 0.73$ and $R^2 = 0.78$ indicating non-linearities in the response."
   ]
  },
  {
   "cell_type": "code",
   "execution_count": 13,
   "metadata": {},
   "outputs": [
    {
     "name": "stdout",
     "output_type": "stream",
     "text": [
      "yield ~ base + base_equivalents + catalyst + residence_time + temperature\n",
      "R²=0.78 Q²=0.73\n"
     ]
    }
   ],
   "source": [
    "from sklearn.linear_model import LinearRegression\n",
    "from sklearn.model_selection import cross_val_predict, LeaveOneOut\n",
    "from sklearn.metrics import r2_score\n",
    "\n",
    "formula = Formula(\"yield ~ catalyst + base + base_equivalents + temperature + residence_time - 1\")\n",
    "y, X = formula.get_model_matrix(df)\n",
    "model = LinearRegression().fit(X, y)\n",
    "r2 = r2_score(y, model.predict(X))\n",
    "q2 = r2_score(y, cross_val_predict(model, X, y, cv=LeaveOneOut()))\n",
    "print(f\"{formula}\\nR²={r2:.2f} Q²={q2:.2f}\")"
   ]
  },
  {
   "cell_type": "markdown",
   "metadata": {},
   "source": [
    "With all interactions terms this increases to $Q^2 = 0.87$ and $R^2 = 0.95$."
   ]
  },
  {
   "cell_type": "code",
   "execution_count": 14,
   "metadata": {},
   "outputs": [
    {
     "name": "stdout",
     "output_type": "stream",
     "text": [
      "yield ~ base + base_equivalents + catalyst + residence_time + temperature + base:base_equivalents + base:catalyst + base:residence_time + base:temperature + base_equivalents:catalyst + base_equivalents:residence_time + base_equivalents:temperature + catalyst:residence_time + catalyst:temperature + residence_time:temperature\n",
      "R²=0.95 Q²=0.87\n"
     ]
    }
   ],
   "source": [
    "formula = Formula(\"yield ~ (catalyst + base + base_equivalents + temperature + residence_time)**2 - 1\")\n",
    "y, X = formula.get_model_matrix(df)\n",
    "model = LinearRegression().fit(X, y)\n",
    "r2 = r2_score(y, model.predict(X))\n",
    "q2 = r2_score(y, cross_val_predict(model, X, y, cv=LeaveOneOut()))\n",
    "print(f\"{formula}\\nR²={r2:.2f} Q²={q2:.2f}\")"
   ]
  },
  {
   "cell_type": "markdown",
   "metadata": {},
   "source": [
    "Adding 3-way interactions does not improve the fit."
   ]
  },
  {
   "cell_type": "code",
   "execution_count": 15,
   "metadata": {},
   "outputs": [
    {
     "name": "stdout",
     "output_type": "stream",
     "text": [
      "yield ~ base + base_equivalents + catalyst + residence_time + temperature + base:base_equivalents + base:catalyst + base:residence_time + base:temperature + base_equivalents:catalyst + base_equivalents:residence_time + base_equivalents:temperature + catalyst:residence_time + catalyst:temperature + residence_time:temperature + base:base_equivalents:catalyst + base:base_equivalents:residence_time + base:base_equivalents:temperature + base:catalyst:residence_time + base:catalyst:temperature + base:residence_time:temperature + base_equivalents:catalyst:residence_time + base_equivalents:catalyst:temperature + base_equivalents:residence_time:temperature + catalyst:residence_time:temperature\n",
      "R²=0.99 Q²=0.41\n"
     ]
    }
   ],
   "source": [
    "formula = Formula(\"yield ~ (catalyst + base + base_equivalents + temperature + residence_time)**3 - 1\")\n",
    "y, X = formula.get_model_matrix(df)\n",
    "model = LinearRegression().fit(X, y)\n",
    "r2 = r2_score(y, model.predict(X))\n",
    "q2 = r2_score(y, cross_val_predict(model, X, y, cv=LeaveOneOut()))\n",
    "print(f\"{formula}\\nR²={r2:.2f} Q²={q2:.2f}\")"
   ]
  },
  {
   "cell_type": "markdown",
   "metadata": {},
   "source": [
    "Sure, this can also be done with one-hot encoding and polynomial feature expansion in scikit-learn.\n",
    "However, Formulaic is more expressive and prevents making errors such as not dropping a level in the one-hot encoding, or taking the square terms of dummy variables."
   ]
  },
  {
   "cell_type": "markdown",
   "metadata": {},
   "source": [
    "For comparison this is what it looks in statsmodels.\n",
    "Note that we have to rename the columns as `patsy` doesn't like their names."
   ]
  },
  {
   "cell_type": "code",
   "execution_count": 16,
   "metadata": {},
   "outputs": [
    {
     "data": {
      "text/html": [
       "<table class=\"simpletable\">\n",
       "<caption>OLS Regression Results</caption>\n",
       "<tr>\n",
       "  <th>Dep. Variable:</th>            <td>y</td>        <th>  R-squared:         </th> <td>   0.951</td>\n",
       "</tr>\n",
       "<tr>\n",
       "  <th>Model:</th>                   <td>OLS</td>       <th>  Adj. R-squared:    </th> <td>   0.927</td>\n",
       "</tr>\n",
       "<tr>\n",
       "  <th>Method:</th>             <td>Least Squares</td>  <th>  F-statistic:       </th> <td>   38.44</td>\n",
       "</tr>\n",
       "<tr>\n",
       "  <th>Date:</th>             <td>Sun, 07 Nov 2021</td> <th>  Prob (F-statistic):</th> <td>1.38e-30</td>\n",
       "</tr>\n",
       "<tr>\n",
       "  <th>Time:</th>                 <td>16:30:35</td>     <th>  Log-Likelihood:    </th> <td>  92.203</td>\n",
       "</tr>\n",
       "<tr>\n",
       "  <th>No. Observations:</th>      <td>    96</td>      <th>  AIC:               </th> <td>  -118.4</td>\n",
       "</tr>\n",
       "<tr>\n",
       "  <th>Df Residuals:</th>          <td>    63</td>      <th>  BIC:               </th> <td>  -33.78</td>\n",
       "</tr>\n",
       "<tr>\n",
       "  <th>Df Model:</th>              <td>    32</td>      <th>                     </th>     <td> </td>   \n",
       "</tr>\n",
       "<tr>\n",
       "  <th>Covariance Type:</th>      <td>nonrobust</td>    <th>                     </th>     <td> </td>   \n",
       "</tr>\n",
       "</table>\n",
       "<table class=\"simpletable\">\n",
       "<tr>\n",
       "                <td></td>                  <th>coef</th>     <th>std err</th>      <th>t</th>      <th>P>|t|</th>  <th>[0.025</th>    <th>0.975]</th>  \n",
       "</tr>\n",
       "<tr>\n",
       "  <th>Intercept</th>                    <td>    1.2168</td> <td>    0.187</td> <td>    6.496</td> <td> 0.000</td> <td>    0.842</td> <td>    1.591</td>\n",
       "</tr>\n",
       "<tr>\n",
       "  <th>x1[T.tBuBrettPhos]</th>           <td>   -0.1101</td> <td>    0.150</td> <td>   -0.733</td> <td> 0.466</td> <td>   -0.410</td> <td>    0.190</td>\n",
       "</tr>\n",
       "<tr>\n",
       "  <th>x1[T.tBuXPhos]</th>               <td>   -0.3721</td> <td>    0.152</td> <td>   -2.444</td> <td> 0.017</td> <td>   -0.676</td> <td>   -0.068</td>\n",
       "</tr>\n",
       "<tr>\n",
       "  <th>x2[T.DBU]</th>                    <td>   -0.5980</td> <td>    0.172</td> <td>   -3.478</td> <td> 0.001</td> <td>   -0.941</td> <td>   -0.254</td>\n",
       "</tr>\n",
       "<tr>\n",
       "  <th>x2[T.TEA]</th>                    <td>   -0.6998</td> <td>    0.192</td> <td>   -3.636</td> <td> 0.001</td> <td>   -1.084</td> <td>   -0.315</td>\n",
       "</tr>\n",
       "<tr>\n",
       "  <th>x2[T.TMG]</th>                    <td>   -1.3760</td> <td>    0.163</td> <td>   -8.432</td> <td> 0.000</td> <td>   -1.702</td> <td>   -1.050</td>\n",
       "</tr>\n",
       "<tr>\n",
       "  <th>x1[T.tBuBrettPhos]:x2[T.DBU]</th> <td>   -0.2011</td> <td>    0.093</td> <td>   -2.159</td> <td> 0.035</td> <td>   -0.387</td> <td>   -0.015</td>\n",
       "</tr>\n",
       "<tr>\n",
       "  <th>x1[T.tBuXPhos]:x2[T.DBU]</th>     <td>   -0.1683</td> <td>    0.087</td> <td>   -1.943</td> <td> 0.056</td> <td>   -0.341</td> <td>    0.005</td>\n",
       "</tr>\n",
       "<tr>\n",
       "  <th>x1[T.tBuBrettPhos]:x2[T.TEA]</th> <td>   -0.1892</td> <td>    0.101</td> <td>   -1.868</td> <td> 0.066</td> <td>   -0.392</td> <td>    0.013</td>\n",
       "</tr>\n",
       "<tr>\n",
       "  <th>x1[T.tBuXPhos]:x2[T.TEA]</th>     <td>   -0.0336</td> <td>    0.098</td> <td>   -0.344</td> <td> 0.732</td> <td>   -0.229</td> <td>    0.162</td>\n",
       "</tr>\n",
       "<tr>\n",
       "  <th>x1[T.tBuBrettPhos]:x2[T.TMG]</th> <td>   -0.0267</td> <td>    0.087</td> <td>   -0.308</td> <td> 0.759</td> <td>   -0.200</td> <td>    0.147</td>\n",
       "</tr>\n",
       "<tr>\n",
       "  <th>x1[T.tBuXPhos]:x2[T.TMG]</th>     <td>   -0.1010</td> <td>    0.083</td> <td>   -1.224</td> <td> 0.226</td> <td>   -0.266</td> <td>    0.064</td>\n",
       "</tr>\n",
       "<tr>\n",
       "  <th>x3</th>                           <td>   -0.1204</td> <td>    0.096</td> <td>   -1.259</td> <td> 0.213</td> <td>   -0.311</td> <td>    0.071</td>\n",
       "</tr>\n",
       "<tr>\n",
       "  <th>x1[T.tBuBrettPhos]:x3</th>        <td>   -0.0198</td> <td>    0.066</td> <td>   -0.301</td> <td> 0.765</td> <td>   -0.151</td> <td>    0.112</td>\n",
       "</tr>\n",
       "<tr>\n",
       "  <th>x1[T.tBuXPhos]:x3</th>            <td>    0.0207</td> <td>    0.065</td> <td>    0.318</td> <td> 0.752</td> <td>   -0.109</td> <td>    0.151</td>\n",
       "</tr>\n",
       "<tr>\n",
       "  <th>x2[T.DBU]:x3</th>                 <td>   -0.0130</td> <td>    0.071</td> <td>   -0.183</td> <td> 0.855</td> <td>   -0.155</td> <td>    0.129</td>\n",
       "</tr>\n",
       "<tr>\n",
       "  <th>x2[T.TEA]:x3</th>                 <td>    0.0077</td> <td>    0.074</td> <td>    0.105</td> <td> 0.917</td> <td>   -0.140</td> <td>    0.155</td>\n",
       "</tr>\n",
       "<tr>\n",
       "  <th>x2[T.TMG]:x3</th>                 <td>   -0.0497</td> <td>    0.074</td> <td>   -0.668</td> <td> 0.507</td> <td>   -0.198</td> <td>    0.099</td>\n",
       "</tr>\n",
       "<tr>\n",
       "  <th>x4</th>                           <td>   -0.0056</td> <td>    0.002</td> <td>   -2.694</td> <td> 0.009</td> <td>   -0.010</td> <td>   -0.001</td>\n",
       "</tr>\n",
       "<tr>\n",
       "  <th>x1[T.tBuBrettPhos]:x4</th>        <td>    0.0037</td> <td>    0.001</td> <td>    2.999</td> <td> 0.004</td> <td>    0.001</td> <td>    0.006</td>\n",
       "</tr>\n",
       "<tr>\n",
       "  <th>x1[T.tBuXPhos]:x4</th>            <td>    0.0042</td> <td>    0.001</td> <td>    3.520</td> <td> 0.001</td> <td>    0.002</td> <td>    0.007</td>\n",
       "</tr>\n",
       "<tr>\n",
       "  <th>x2[T.DBU]:x4</th>                 <td>    0.0077</td> <td>    0.001</td> <td>    6.078</td> <td> 0.000</td> <td>    0.005</td> <td>    0.010</td>\n",
       "</tr>\n",
       "<tr>\n",
       "  <th>x2[T.TEA]:x4</th>                 <td>   -0.0005</td> <td>    0.001</td> <td>   -0.346</td> <td> 0.730</td> <td>   -0.003</td> <td>    0.002</td>\n",
       "</tr>\n",
       "<tr>\n",
       "  <th>x2[T.TMG]:x4</th>                 <td>    0.0123</td> <td>    0.001</td> <td>   10.457</td> <td> 0.000</td> <td>    0.010</td> <td>    0.015</td>\n",
       "</tr>\n",
       "<tr>\n",
       "  <th>x5</th>                           <td>    0.0002</td> <td>    0.000</td> <td>    1.414</td> <td> 0.162</td> <td>-7.52e-05</td> <td>    0.000</td>\n",
       "</tr>\n",
       "<tr>\n",
       "  <th>x1[T.tBuBrettPhos]:x5</th>        <td> -9.09e-05</td> <td> 7.14e-05</td> <td>   -1.273</td> <td> 0.208</td> <td>   -0.000</td> <td> 5.18e-05</td>\n",
       "</tr>\n",
       "<tr>\n",
       "  <th>x1[T.tBuXPhos]:x5</th>            <td> 3.655e-06</td> <td> 6.63e-05</td> <td>    0.055</td> <td> 0.956</td> <td>   -0.000</td> <td>    0.000</td>\n",
       "</tr>\n",
       "<tr>\n",
       "  <th>x2[T.DBU]:x5</th>                 <td> 1.023e-05</td> <td> 7.86e-05</td> <td>    0.130</td> <td> 0.897</td> <td>   -0.000</td> <td>    0.000</td>\n",
       "</tr>\n",
       "<tr>\n",
       "  <th>x2[T.TEA]:x5</th>                 <td>-9.419e-05</td> <td> 7.73e-05</td> <td>   -1.219</td> <td> 0.227</td> <td>   -0.000</td> <td> 6.02e-05</td>\n",
       "</tr>\n",
       "<tr>\n",
       "  <th>x2[T.TMG]:x5</th>                 <td>    0.0002</td> <td> 6.87e-05</td> <td>    2.739</td> <td> 0.008</td> <td> 5.09e-05</td> <td>    0.000</td>\n",
       "</tr>\n",
       "<tr>\n",
       "  <th>x3:x4</th>                        <td>    0.0022</td> <td>    0.001</td> <td>    2.495</td> <td> 0.015</td> <td>    0.000</td> <td>    0.004</td>\n",
       "</tr>\n",
       "<tr>\n",
       "  <th>x3:x5</th>                        <td>-3.465e-05</td> <td> 5.26e-05</td> <td>   -0.659</td> <td> 0.512</td> <td>   -0.000</td> <td> 7.04e-05</td>\n",
       "</tr>\n",
       "<tr>\n",
       "  <th>x4:x5</th>                        <td> -1.93e-07</td> <td> 1.04e-06</td> <td>   -0.186</td> <td> 0.853</td> <td>-2.27e-06</td> <td> 1.89e-06</td>\n",
       "</tr>\n",
       "</table>\n",
       "<table class=\"simpletable\">\n",
       "<tr>\n",
       "  <th>Omnibus:</th>       <td>19.784</td> <th>  Durbin-Watson:     </th> <td>   1.865</td>\n",
       "</tr>\n",
       "<tr>\n",
       "  <th>Prob(Omnibus):</th> <td> 0.000</td> <th>  Jarque-Bera (JB):  </th> <td>  34.781</td>\n",
       "</tr>\n",
       "<tr>\n",
       "  <th>Skew:</th>          <td>-0.832</td> <th>  Prob(JB):          </th> <td>2.80e-08</td>\n",
       "</tr>\n",
       "<tr>\n",
       "  <th>Kurtosis:</th>      <td> 5.434</td> <th>  Cond. No.          </th> <td>1.83e+06</td>\n",
       "</tr>\n",
       "</table><br/><br/>Notes:<br/>[1] Standard Errors assume that the covariance matrix of the errors is correctly specified.<br/>[2] The condition number is large, 1.83e+06. This might indicate that there are<br/>strong multicollinearity or other numerical problems."
      ],
      "text/plain": [
       "<class 'statsmodels.iolib.summary.Summary'>\n",
       "\"\"\"\n",
       "                            OLS Regression Results                            \n",
       "==============================================================================\n",
       "Dep. Variable:                      y   R-squared:                       0.951\n",
       "Model:                            OLS   Adj. R-squared:                  0.927\n",
       "Method:                 Least Squares   F-statistic:                     38.44\n",
       "Date:                Sun, 07 Nov 2021   Prob (F-statistic):           1.38e-30\n",
       "Time:                        16:30:35   Log-Likelihood:                 92.203\n",
       "No. Observations:                  96   AIC:                            -118.4\n",
       "Df Residuals:                      63   BIC:                            -33.78\n",
       "Df Model:                          32                                         \n",
       "Covariance Type:            nonrobust                                         \n",
       "================================================================================================\n",
       "                                   coef    std err          t      P>|t|      [0.025      0.975]\n",
       "------------------------------------------------------------------------------------------------\n",
       "Intercept                        1.2168      0.187      6.496      0.000       0.842       1.591\n",
       "x1[T.tBuBrettPhos]              -0.1101      0.150     -0.733      0.466      -0.410       0.190\n",
       "x1[T.tBuXPhos]                  -0.3721      0.152     -2.444      0.017      -0.676      -0.068\n",
       "x2[T.DBU]                       -0.5980      0.172     -3.478      0.001      -0.941      -0.254\n",
       "x2[T.TEA]                       -0.6998      0.192     -3.636      0.001      -1.084      -0.315\n",
       "x2[T.TMG]                       -1.3760      0.163     -8.432      0.000      -1.702      -1.050\n",
       "x1[T.tBuBrettPhos]:x2[T.DBU]    -0.2011      0.093     -2.159      0.035      -0.387      -0.015\n",
       "x1[T.tBuXPhos]:x2[T.DBU]        -0.1683      0.087     -1.943      0.056      -0.341       0.005\n",
       "x1[T.tBuBrettPhos]:x2[T.TEA]    -0.1892      0.101     -1.868      0.066      -0.392       0.013\n",
       "x1[T.tBuXPhos]:x2[T.TEA]        -0.0336      0.098     -0.344      0.732      -0.229       0.162\n",
       "x1[T.tBuBrettPhos]:x2[T.TMG]    -0.0267      0.087     -0.308      0.759      -0.200       0.147\n",
       "x1[T.tBuXPhos]:x2[T.TMG]        -0.1010      0.083     -1.224      0.226      -0.266       0.064\n",
       "x3                              -0.1204      0.096     -1.259      0.213      -0.311       0.071\n",
       "x1[T.tBuBrettPhos]:x3           -0.0198      0.066     -0.301      0.765      -0.151       0.112\n",
       "x1[T.tBuXPhos]:x3                0.0207      0.065      0.318      0.752      -0.109       0.151\n",
       "x2[T.DBU]:x3                    -0.0130      0.071     -0.183      0.855      -0.155       0.129\n",
       "x2[T.TEA]:x3                     0.0077      0.074      0.105      0.917      -0.140       0.155\n",
       "x2[T.TMG]:x3                    -0.0497      0.074     -0.668      0.507      -0.198       0.099\n",
       "x4                              -0.0056      0.002     -2.694      0.009      -0.010      -0.001\n",
       "x1[T.tBuBrettPhos]:x4            0.0037      0.001      2.999      0.004       0.001       0.006\n",
       "x1[T.tBuXPhos]:x4                0.0042      0.001      3.520      0.001       0.002       0.007\n",
       "x2[T.DBU]:x4                     0.0077      0.001      6.078      0.000       0.005       0.010\n",
       "x2[T.TEA]:x4                    -0.0005      0.001     -0.346      0.730      -0.003       0.002\n",
       "x2[T.TMG]:x4                     0.0123      0.001     10.457      0.000       0.010       0.015\n",
       "x5                               0.0002      0.000      1.414      0.162   -7.52e-05       0.000\n",
       "x1[T.tBuBrettPhos]:x5         -9.09e-05   7.14e-05     -1.273      0.208      -0.000    5.18e-05\n",
       "x1[T.tBuXPhos]:x5             3.655e-06   6.63e-05      0.055      0.956      -0.000       0.000\n",
       "x2[T.DBU]:x5                  1.023e-05   7.86e-05      0.130      0.897      -0.000       0.000\n",
       "x2[T.TEA]:x5                 -9.419e-05   7.73e-05     -1.219      0.227      -0.000    6.02e-05\n",
       "x2[T.TMG]:x5                     0.0002   6.87e-05      2.739      0.008    5.09e-05       0.000\n",
       "x3:x4                            0.0022      0.001      2.495      0.015       0.000       0.004\n",
       "x3:x5                        -3.465e-05   5.26e-05     -0.659      0.512      -0.000    7.04e-05\n",
       "x4:x5                         -1.93e-07   1.04e-06     -0.186      0.853   -2.27e-06    1.89e-06\n",
       "==============================================================================\n",
       "Omnibus:                       19.784   Durbin-Watson:                   1.865\n",
       "Prob(Omnibus):                  0.000   Jarque-Bera (JB):               34.781\n",
       "Skew:                          -0.832   Prob(JB):                     2.80e-08\n",
       "Kurtosis:                       5.434   Cond. No.                     1.83e+06\n",
       "==============================================================================\n",
       "\n",
       "Notes:\n",
       "[1] Standard Errors assume that the covariance matrix of the errors is correctly specified.\n",
       "[2] The condition number is large, 1.83e+06. This might indicate that there are\n",
       "strong multicollinearity or other numerical problems.\n",
       "\"\"\""
      ]
     },
     "execution_count": 16,
     "metadata": {},
     "output_type": "execute_result"
    }
   ],
   "source": [
    "from statsmodels.formula.api import ols\n",
    "\n",
    "df2 = df.copy()\n",
    "df2.columns = [\"x1\", \"x2\", \"x3\", \"x4\", \"x5\", \"y\"]\n",
    "model = ols(\"y ~ (x1 + x2 + x3 + x4 + x5)**2\", data=df2).fit()\n",
    "model.summary()"
   ]
  }
 ],
 "metadata": {
  "interpreter": {
   "hash": "8e9259996372aff3e06ab09abc74006055b13e8964dcd74a6c61f968c05f50b0"
  },
  "kernelspec": {
   "display_name": "Python 3.9.1 64-bit ('base': conda)",
   "name": "python3"
  },
  "language_info": {
   "codemirror_mode": {
    "name": "ipython",
    "version": 3
   },
   "file_extension": ".py",
   "mimetype": "text/x-python",
   "name": "python",
   "nbconvert_exporter": "python",
   "pygments_lexer": "ipython3",
   "version": "3.9.1"
  },
  "orig_nbformat": 4
 },
 "nbformat": 4,
 "nbformat_minor": 2
}
