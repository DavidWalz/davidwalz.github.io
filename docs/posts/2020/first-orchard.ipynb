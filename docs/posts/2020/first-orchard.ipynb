{
 "cells": [
  {
   "cell_type": "markdown",
   "metadata": {},
   "source": [
    "# First Orchard\n",
    "\n",
    "First Orchard is simplified version of the children's board game \"Orchard\" and is meant as a first game for ages 2+.\n",
    "The goal of this cooperative game is to collect all 4 fruits from each of 4 fruit trees (red apples, green apples, yellow pears and blue plums) before a crow arrives at the orchard to steal the fruits.\n",
    "Players take turns to roll a 6-sided dice with the faces showing the 4 different fruit colors, the crow and a fruit basket.\n",
    "When rolling a color, a fruit of the corresponding type can be collected if there is still one remaining.\n",
    "When rolling the basket, the player can choose to pick any of the remaining fruits.\n",
    "When rolling the crow, the crow advances one step. \n",
    "The game is lost if the crow advanced a total of 6 steps before all fruits are collected.\n",
    "\n",
    "![](/images/first-orchard.jpg#medium)\n",
    "\n",
    "There are children's games that proceed without any decisions by the players.\n",
    "First Orchard does have one strategic element, which is the choice of the fruit when rolling the basket. \n",
    "For optimal play one should always take the fruit type, of which the most fruits remain, so that the chance of rolling a completely harvested fruit is minimized. \n",
    "For the lowest win probability, one can do the opposite by trying to completely strip of one fruit tree before moving to the next. \n",
    "From experience it's rather futile to explain to a 2-year-old why the latter is not a good strategy, so I wanted to at least know how big the impact is on the win probability.\n",
    "\n",
    "As this game produces a variable length random sequence, there is no elegant way of vectorizing the calculation. Instead, we simply write out the logic and jit-compile with numba."
   ]
  },
  {
   "cell_type": "code",
   "execution_count": 1,
   "metadata": {
    "tags": []
   },
   "outputs": [],
   "source": [
    "from numba import jit\n",
    "import numpy as np\n",
    "\n",
    "\n",
    "@jit(nopython=True)\n",
    "def choose_best_strategy(counter):\n",
    "    \"\"\"Pick the type of fruits of which we have the least.\"\"\"\n",
    "    return np.argmin(counter[1:]) + 1\n",
    "\n",
    "\n",
    "@jit(nopython=True)\n",
    "def choose_worst_strategy(counter):\n",
    "    \"\"\"Pick the type of fruit of which we already have the most (but less than 4).\"\"\"\n",
    "    valid_choices = np.arange(1, 5)[counter[1:] < 4]\n",
    "    return valid_choices[np.argmax(counter[valid_choices])]\n",
    "\n",
    "\n",
    "@jit(nopython=True)\n",
    "def simulate(choose=choose_best_strategy):\n",
    "    \"\"\"Simulate a single game and return whether we won or not.\"\"\"\n",
    "    counter = np.zeros(5)  # [crow, fruit1, fruit2, fruit3, fruit4]\n",
    "    while (counter[1:] < 4).any():\n",
    "        i = np.random.randint(0, 6)  # 0: crow, 1 - 4: fruit1-4, 5: choose a fruit\n",
    "        if i == 5:\n",
    "            i = choose(counter)  # choose \n",
    "        counter[i] += 1\n",
    "        if counter[0] == 6:  # loss\n",
    "            return False\n",
    "    return True  # win"
   ]
  },
  {
   "cell_type": "markdown",
   "metadata": {},
   "source": [
    "With optimal play we have a ~77% win probability. "
   ]
  },
  {
   "cell_type": "code",
   "execution_count": 2,
   "metadata": {
    "tags": []
   },
   "outputs": [
    {
     "name": "stdout",
     "output_type": "stream",
     "text": [
      "76.9 %\n"
     ]
    }
   ],
   "source": [
    "p_win = np.mean([simulate(choose_best_strategy) for i in range(100000)])\n",
    "print(f\"{p_win * 100:.1f} %\")"
   ]
  },
  {
   "cell_type": "markdown",
   "metadata": {},
   "source": [
    "The worst play leads to 7% lower win probility. Any possible strategy will land us in between. So now we know."
   ]
  },
  {
   "cell_type": "code",
   "execution_count": 3,
   "metadata": {
    "tags": []
   },
   "outputs": [
    {
     "name": "stdout",
     "output_type": "stream",
     "text": [
      "70.1 %\n"
     ]
    }
   ],
   "source": [
    "p_win = np.mean([simulate(choose_worst_strategy) for i in range(100000)])\n",
    "print(f\"{p_win * 100:.1f} %\")"
   ]
  },
  {
   "cell_type": "markdown",
   "metadata": {},
   "source": [
    "Finally, let's look at how much speed we gained from the jit-compilation."
   ]
  },
  {
   "cell_type": "code",
   "execution_count": 4,
   "metadata": {
    "tags": []
   },
   "outputs": [
    {
     "name": "stdout",
     "output_type": "stream",
     "text": [
      "31 µs ± 1.1 µs per loop (mean ± std. dev. of 7 runs, 10000 loops each)\n"
     ]
    }
   ],
   "source": [
    "%timeit simulate(choose_worst_strategy)"
   ]
  },
  {
   "cell_type": "markdown",
   "metadata": {},
   "source": [
    "and without jit"
   ]
  },
  {
   "cell_type": "code",
   "execution_count": 5,
   "metadata": {
    "tags": []
   },
   "outputs": [
    {
     "name": "stdout",
     "output_type": "stream",
     "text": [
      "385 µs ± 23.4 µs per loop (mean ± std. dev. of 7 runs, 1000 loops each)\n"
     ]
    }
   ],
   "source": [
    "def simulate_nojit(choose=choose_best_strategy):\n",
    "\n",
    "    def choose_worst_strategy(counter):\n",
    "        valid_choices = np.arange(1, 5)[counter[1:] < 4]\n",
    "        return valid_choices[np.argmax(counter[valid_choices])]\n",
    "\n",
    "    counter = np.zeros(5)  # [crow, fruit1, fruit2, fruit3, fruit4]\n",
    "    while (counter[1:] < 4).any():\n",
    "        i = np.random.randint(0, 6)  # 0: crow, 1 - 4: fruit1-4, 5: choose a fruit\n",
    "        if i == 5:\n",
    "            i = choose_worst_strategy(counter)\n",
    "        counter[i] += 1\n",
    "        if counter[0] == 6:  # loss\n",
    "            return False\n",
    "    return True  # win\n",
    "\n",
    "%timeit simulate_nojit()"
   ]
  },
  {
   "cell_type": "markdown",
   "metadata": {},
   "source": [
    "We gained a factor of >10 which, when running 100000 simulations as done above, makes all the difference between what feels like an instant response and half an eternity :).\n",
    "This is really nice because the only thing we needed to do was putting a `@jit` decorator in front of the function."
   ]
  },
  {
   "cell_type": "markdown",
   "metadata": {},
   "source": []
  }
 ],
 "metadata": {
  "kernelspec": {
   "display_name": "Python 3.7.6 64-bit ('base': conda)",
   "name": "python37664bitbaseconda80041dba7d8f4a8783e715fa435efec5"
  },
  "language_info": {
   "codemirror_mode": {
    "name": "ipython",
    "version": 3
   },
   "file_extension": ".py",
   "mimetype": "text/x-python",
   "name": "python",
   "nbconvert_exporter": "python",
   "pygments_lexer": "ipython3",
   "version": "3.7.6-final"
  },
  "orig_nbformat": 2
 },
 "nbformat": 4,
 "nbformat_minor": 2
}
